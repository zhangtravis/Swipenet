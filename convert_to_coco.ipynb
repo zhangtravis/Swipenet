{
 "cells": [
  {
   "cell_type": "code",
   "execution_count": 2,
   "metadata": {},
   "outputs": [],
   "source": [
    "import pandas as pd\n",
    "from tqdm.notebook import tqdm\n",
    "tqdm.pandas()\n",
    "import ast\n",
    "import json\n",
    "import numpy as np\n",
    "from PIL import Image\n",
    "import os\n",
    "import shutil"
   ]
  },
  {
   "cell_type": "code",
   "execution_count": 3,
   "metadata": {
    "scrolled": true
   },
   "outputs": [
    {
     "data": {
      "application/vnd.jupyter.widget-view+json": {
       "model_id": "f4e6fbb6f2d0446d9e000b4b1a8dd50a",
       "version_major": 2,
       "version_minor": 0
      },
      "text/plain": [
       "  0%|          | 0/23501 [00:00<?, ?it/s]"
      ]
     },
     "metadata": {},
     "output_type": "display_data"
    },
    {
     "data": {
      "text/html": [
       "<div>\n",
       "<style scoped>\n",
       "    .dataframe tbody tr th:only-of-type {\n",
       "        vertical-align: middle;\n",
       "    }\n",
       "\n",
       "    .dataframe tbody tr th {\n",
       "        vertical-align: top;\n",
       "    }\n",
       "\n",
       "    .dataframe thead th {\n",
       "        text-align: right;\n",
       "    }\n",
       "</style>\n",
       "<table border=\"1\" class=\"dataframe\">\n",
       "  <thead>\n",
       "    <tr style=\"text-align: right;\">\n",
       "      <th></th>\n",
       "      <th>video_id</th>\n",
       "      <th>sequence</th>\n",
       "      <th>video_frame</th>\n",
       "      <th>sequence_frame</th>\n",
       "      <th>image_id</th>\n",
       "      <th>annotations</th>\n",
       "    </tr>\n",
       "  </thead>\n",
       "  <tbody>\n",
       "    <tr>\n",
       "      <th>0</th>\n",
       "      <td>0</td>\n",
       "      <td>40258</td>\n",
       "      <td>0</td>\n",
       "      <td>0</td>\n",
       "      <td>0-0</td>\n",
       "      <td>[]</td>\n",
       "    </tr>\n",
       "    <tr>\n",
       "      <th>1</th>\n",
       "      <td>0</td>\n",
       "      <td>40258</td>\n",
       "      <td>1</td>\n",
       "      <td>1</td>\n",
       "      <td>0-1</td>\n",
       "      <td>[]</td>\n",
       "    </tr>\n",
       "    <tr>\n",
       "      <th>2</th>\n",
       "      <td>0</td>\n",
       "      <td>40258</td>\n",
       "      <td>2</td>\n",
       "      <td>2</td>\n",
       "      <td>0-2</td>\n",
       "      <td>[]</td>\n",
       "    </tr>\n",
       "    <tr>\n",
       "      <th>3</th>\n",
       "      <td>0</td>\n",
       "      <td>40258</td>\n",
       "      <td>3</td>\n",
       "      <td>3</td>\n",
       "      <td>0-3</td>\n",
       "      <td>[]</td>\n",
       "    </tr>\n",
       "    <tr>\n",
       "      <th>4</th>\n",
       "      <td>0</td>\n",
       "      <td>40258</td>\n",
       "      <td>4</td>\n",
       "      <td>4</td>\n",
       "      <td>0-4</td>\n",
       "      <td>[]</td>\n",
       "    </tr>\n",
       "  </tbody>\n",
       "</table>\n",
       "</div>"
      ],
      "text/plain": [
       "   video_id  sequence  video_frame  sequence_frame image_id annotations\n",
       "0         0     40258            0               0      0-0          []\n",
       "1         0     40258            1               1      0-1          []\n",
       "2         0     40258            2               2      0-2          []\n",
       "3         0     40258            3               3      0-3          []\n",
       "4         0     40258            4               4      0-4          []"
      ]
     },
     "execution_count": 3,
     "metadata": {},
     "output_type": "execute_result"
    }
   ],
   "source": [
    "data = pd.read_csv('dataset/train.csv')\n",
    "\n",
    "data['annotations'] = data['annotations'].progress_apply(lambda x: ast.literal_eval(x))\n",
    "data.head()"
   ]
  },
  {
   "cell_type": "code",
   "execution_count": 4,
   "metadata": {},
   "outputs": [],
   "source": [
    "# curr_path = ''\n",
    "# dst_path = 'dataset/train_images/all_videos'\n",
    "# for vid_folder in os.listdir('dataset/train_images'):\n",
    "#     for file in os.listdir(f'dataset/train_images/{vid_folder}'):\n",
    "#         curr_path = f'dataset/train_images/{vid_folder}/{file}'\n",
    "#         vid_id = vid_folder[-1:]\n",
    "#         file_id = file[:-4]\n",
    "# #         print(f'{dst_path}/{vid_id}-{file_id}.jpg')\n",
    "#         shutil.copy(curr_path, f'{dst_path}/{vid_id}-{file_id}.jpg')"
   ]
  },
  {
   "cell_type": "code",
   "execution_count": 5,
   "metadata": {},
   "outputs": [],
   "source": [
    "info = {}\n",
    "info['year'] = 0\n",
    "info['version'] = '1'\n",
    "info['description'] = 'kaggle'\n",
    "info['contributor'] = ''\n",
    "info['url'] = ''\n",
    "info['date_created'] = ''"
   ]
  },
  {
   "cell_type": "code",
   "execution_count": 6,
   "metadata": {},
   "outputs": [],
   "source": [
    "license = {}\n",
    "license['id'] = 0\n",
    "license['name'] = ''\n",
    "license['url'] = ''"
   ]
  },
  {
   "cell_type": "code",
   "execution_count": 7,
   "metadata": {},
   "outputs": [],
   "source": [
    "# (1280, 480)\n",
    "categories = []\n",
    "categories.append({'id': 0, 'name': 'starfish', 'supercategory': 'None'})"
   ]
  },
  {
   "cell_type": "code",
   "execution_count": 30,
   "metadata": {},
   "outputs": [
    {
     "name": "stdout",
     "output_type": "stream",
     "text": [
      "[[628, 321, 42, 47], [893, 497, 65, 61], [853, 413, 49, 44], [749, 666, 57, 53], [625, 669, 57, 48], [402, 162, 46, 48], [687, 159, 38, 39], [639, 65, 44, 32], [614, 72, 40, 33], [830, 164, 56, 50], [537, 154, 26, 25], [357, 85, 33, 25], [405, 323, 28, 30], [677, 69, 46, 31], [314, 105, 24, 21], [650, 356, 27, 42], [1129, 689, 59, 30], [1140, 674, 69, 36]]\n"
     ]
    }
   ],
   "source": [
    "print([[b['x'], b['y'], b['width'], b['height']] for b in data[data['image_id'] == '1-9114'].annotations.values[0]])"
   ]
  },
  {
   "cell_type": "code",
   "execution_count": 31,
   "metadata": {},
   "outputs": [
    {
     "name": "stdout",
     "output_type": "stream",
     "text": [
      "[{'x': 628, 'y': 321, 'width': 42, 'height': 47}, {'x': 893, 'y': 497, 'width': 65, 'height': 61}, {'x': 853, 'y': 413, 'width': 49, 'height': 44}, {'x': 749, 'y': 666, 'width': 57, 'height': 53}, {'x': 625, 'y': 669, 'width': 57, 'height': 48}, {'x': 402, 'y': 162, 'width': 46, 'height': 48}, {'x': 687, 'y': 159, 'width': 38, 'height': 39}, {'x': 639, 'y': 65, 'width': 44, 'height': 32}, {'x': 614, 'y': 72, 'width': 40, 'height': 33}, {'x': 830, 'y': 164, 'width': 56, 'height': 50}, {'x': 537, 'y': 154, 'width': 26, 'height': 25}, {'x': 357, 'y': 85, 'width': 33, 'height': 25}, {'x': 405, 'y': 323, 'width': 28, 'height': 30}, {'x': 677, 'y': 69, 'width': 46, 'height': 31}, {'x': 314, 'y': 105, 'width': 24, 'height': 21}, {'x': 650, 'y': 356, 'width': 27, 'height': 42}, {'x': 1129, 'y': 689, 'width': 59, 'height': 30}, {'x': 1140, 'y': 674, 'width': 69, 'height': 36}]\n"
     ]
    }
   ],
   "source": [
    "print([b for b in data[data['image_id'] == '1-9114'].annotations.values[0]])"
   ]
  },
  {
   "cell_type": "code",
   "execution_count": 54,
   "metadata": {},
   "outputs": [],
   "source": [
    "images = []\n",
    "annotations = []\n",
    "annotation_id = 0\n",
    "path = 'dataset/train_images/all_videos'\n",
    "for file in os.listdir(path):\n",
    "    if('json' in file):\n",
    "        continue\n",
    "    row = data[data['image_id'] == file[:-4]]\n",
    "    img = Image.open(f'{path}/{file}')\n",
    "    width, height = img.size\n",
    "    annotation = {'id': annotation_id, 'image_id': row['image_id'].values[0], \n",
    "                  'category_id': 0, 'segmentation': [], 'area': 0.0, \n",
    "                  'bbox': [[b['x'], b['y'], b['width'], b['height']] for b in row.annotations.values[0]],\n",
    "                 'iscrowd': 0}\n",
    "    image = {'id': row['image_id'].values[0], 'width': width, 'height': height, \n",
    "             'file_name': f'{path}/{file}', 'license': 0, 'flickr_url': '',\n",
    "            'coco_url': '', 'date_captured': None}\n",
    "    images.append(image)\n",
    "    annotations.append(annotation)\n",
    "    annotation_id += 1"
   ]
  },
  {
   "cell_type": "code",
   "execution_count": 55,
   "metadata": {},
   "outputs": [],
   "source": [
    "data_coco = {}\n",
    "data_coco['images'] = images\n",
    "data_coco['annotations'] = annotations\n",
    "data_coco['categories'] = categories\n",
    "json.dump(data_coco, open('dataset/train_images/all_videos/traincoco.json', \"w\"), indent=4)"
   ]
  },
  {
   "cell_type": "code",
   "execution_count": null,
   "metadata": {},
   "outputs": [],
   "source": []
  }
 ],
 "metadata": {
  "kernelspec": {
   "display_name": "Python 3 (ipykernel)",
   "language": "python",
   "name": "python3"
  },
  "language_info": {
   "codemirror_mode": {
    "name": "ipython",
    "version": 3
   },
   "file_extension": ".py",
   "mimetype": "text/x-python",
   "name": "python",
   "nbconvert_exporter": "python",
   "pygments_lexer": "ipython3",
   "version": "3.7.0"
  }
 },
 "nbformat": 4,
 "nbformat_minor": 2
}
